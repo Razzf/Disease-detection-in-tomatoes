{
  "nbformat": 4,
  "nbformat_minor": 0,
  "metadata": {
    "colab": {
      "name": "CreateData.ipynb",
      "provenance": [],
      "collapsed_sections": [],
      "mount_file_id": "15z4UyOiCL5Qj69AXhpiIp4lFDwuBT7xh",
      "authorship_tag": "ABX9TyNbrKiDU8SKo842t/jtKuDc",
      "include_colab_link": true
    },
    "kernelspec": {
      "name": "python3",
      "display_name": "Python 3"
    }
  },
  "cells": [
    {
      "cell_type": "markdown",
      "metadata": {
        "id": "view-in-github",
        "colab_type": "text"
      },
      "source": [
        "<a href=\"https://colab.research.google.com/github/Razzf/Disease-detection-in-tomatoes/blob/master/CreateData.ipynb\" target=\"_parent\"><img src=\"https://colab.research.google.com/assets/colab-badge.svg\" alt=\"Open In Colab\"/></a>"
      ]
    },
    {
      "cell_type": "code",
      "metadata": {
        "id": "bK0MDY7k4-uR",
        "colab_type": "code",
        "colab": {}
      },
      "source": [
        "import numpy as np\n",
        "import os\n",
        "import cv2\n",
        "import random\n",
        "from IPython.display import clear_output"
      ],
      "execution_count": 4,
      "outputs": []
    },
    {
      "cell_type": "code",
      "metadata": {
        "id": "GGp3JpJF5JbG",
        "colab_type": "code",
        "colab": {}
      },
      "source": [
        "DATADIR = \"/content/drive/My Drive/Plant_leave_diseases_dataset_with_augmentation (1)\"\n",
        "CATEGORIES = [\"Apple___Apple_scab\", \"Apple___Black_rot\", \"Apple___Cedar_apple_rust\",\n",
        "              \"Apple___healthy\", \"Blueberry___healthy\", \"Cherry_(including_sour)___Powdery_mildew\",\n",
        "              \"Cherry_(including_sour)___healthy\", \"Corn_(maize)___Cercospora_leaf_spot Gray_leaf_spot\",\n",
        "              \"Corn_(maize)___Common_rust_\", \"Corn_(maize)___Northern_Leaf_Blight\", \"Corn_(maize)___healthy\",\n",
        "              \"Grape___Black_rot\", \"Grape___Esca_(Black_Measles)\", \"Grape___Leaf_blight_(Isariopsis_Leaf_Spot)\",\n",
        "              \"Grape___healthy\", \"Orange___Haunglongbing_(Citrus_greening)\", \"Peach___Bacterial_spot\",\n",
        "              \"Peach___healthy\", \"Pepper,_bell___Bacterial_spot\", \"Pepper,_bell___healthy\", \"Potato___Early_blight\",\n",
        "              \"Potato___Late_blight\", \"Potato___healthy\", \"Raspberry___healthy\", \"Soybean___healthy\",\n",
        "              \"Squash___Powdery_mildew\", \"Strawberry___Leaf_scorch\", \"Strawberry___healthy\", \n",
        "              \"Tomato___Bacterial_spot\", \"Tomato___Early_blight\", \"Tomato___Late_blight\", \"Tomato___Leaf_Mold\",\n",
        "              \"Tomato___Septoria_leaf_spot\", \"Tomato___Spider_mites Two-spotted_spider_mite\",\n",
        "              \"Tomato___Target_Spot\", \"Tomato___Tomato_Yellow_Leaf_Curl_Virus\", \"Tomato___healthy\"]\n",
        "\n",
        "CATEGORIES = [\"Tomato___Bacterial_spot (1)\", \n",
        "              \"Tomato___Early_blight (1)\",\n",
        "              \"Tomato___Late_blight (1)\", \"Tomato___Leaf_Mold (1)\",\n",
        "              \"Tomato___Septoria_leaf_spot (1)\",\n",
        "              \"Tomato___Spider_mites Two-spotted_spider_mite (1)\",\n",
        "              \"Tomato___Target_Spot (1)\",\n",
        "              \"Tomato___Tomato_Yellow_Leaf_Curl_Virus (1)\",\n",
        "              \"Tomato___Tomato_mosaic_virus (1)\",\n",
        "              \"Tomato___healthy (1)\"]"
      ],
      "execution_count": 5,
      "outputs": []
    },
    {
      "cell_type": "code",
      "metadata": {
        "id": "f9GHJxti5RTi",
        "colab_type": "code",
        "colab": {}
      },
      "source": [
        "training_data = []\n",
        "IMG_SIZE = 224\n",
        "def create_training_data():\n",
        "  for class_index, category in enumerate(CATEGORIES):\n",
        "    path = os.path.join(DATADIR, category)\n",
        "    class_array = [0,0,0,0,0,0,0,0,0,0]\n",
        "    class_array[class_index] = 1\n",
        "    for img_index, img in enumerate(os.listdir(path)):\n",
        "      img_array = cv2.imread(os.path.join(path, img), cv2.IMREAD_ANYCOLOR)\n",
        "      img_array = cv2.cvtColor(img_array, cv2.COLOR_BGR2RGB)\n",
        "      new_array = cv2.resize(img_array, (IMG_SIZE, IMG_SIZE))\n",
        "      new_array = new_array/255.0\n",
        "      new_array = new_array.astype(np.float16)\n",
        "      training_data.append((new_array, class_array, category))\n",
        "      print('class: ', category)\n",
        "      print(\"img_n: \", img_index)\n",
        "      print('label: ', class_index)\n",
        "      print(new_array.dtype)\n",
        "      if (img_index + 1) % 2 == 0:\n",
        "        clear_output()\n"
      ],
      "execution_count": 6,
      "outputs": []
    },
    {
      "cell_type": "code",
      "metadata": {
        "id": "_Zl2-_3a5j3E",
        "colab_type": "code",
        "colab": {
          "base_uri": "https://localhost:8080/",
          "height": 350
        },
        "outputId": "b948db8f-891b-4aa9-eb2a-51cc1e6debb1"
      },
      "source": [
        "create_training_data()"
      ],
      "execution_count": 7,
      "outputs": [
        {
          "output_type": "stream",
          "text": [
            "class:  Tomato___Bacterial_spot (1)\n",
            "img_n:  8\n",
            "label:  0\n",
            "float16\n"
          ],
          "name": "stdout"
        },
        {
          "output_type": "error",
          "ename": "KeyboardInterrupt",
          "evalue": "ignored",
          "traceback": [
            "\u001b[0;31m---------------------------------------------------------------------------\u001b[0m",
            "\u001b[0;31mKeyboardInterrupt\u001b[0m                         Traceback (most recent call last)",
            "\u001b[0;32m<ipython-input-7-be131b356c3a>\u001b[0m in \u001b[0;36m<module>\u001b[0;34m()\u001b[0m\n\u001b[0;32m----> 1\u001b[0;31m \u001b[0mcreate_training_data\u001b[0m\u001b[0;34m(\u001b[0m\u001b[0;34m)\u001b[0m\u001b[0;34m\u001b[0m\u001b[0;34m\u001b[0m\u001b[0m\n\u001b[0m",
            "\u001b[0;32m<ipython-input-6-d1ab68a0ae00>\u001b[0m in \u001b[0;36mcreate_training_data\u001b[0;34m()\u001b[0m\n\u001b[1;32m      7\u001b[0m     \u001b[0mclass_array\u001b[0m\u001b[0;34m[\u001b[0m\u001b[0mclass_index\u001b[0m\u001b[0;34m]\u001b[0m \u001b[0;34m=\u001b[0m \u001b[0;36m1\u001b[0m\u001b[0;34m\u001b[0m\u001b[0;34m\u001b[0m\u001b[0m\n\u001b[1;32m      8\u001b[0m     \u001b[0;32mfor\u001b[0m \u001b[0mimg_index\u001b[0m\u001b[0;34m,\u001b[0m \u001b[0mimg\u001b[0m \u001b[0;32min\u001b[0m \u001b[0menumerate\u001b[0m\u001b[0;34m(\u001b[0m\u001b[0mos\u001b[0m\u001b[0;34m.\u001b[0m\u001b[0mlistdir\u001b[0m\u001b[0;34m(\u001b[0m\u001b[0mpath\u001b[0m\u001b[0;34m)\u001b[0m\u001b[0;34m)\u001b[0m\u001b[0;34m:\u001b[0m\u001b[0;34m\u001b[0m\u001b[0;34m\u001b[0m\u001b[0m\n\u001b[0;32m----> 9\u001b[0;31m       \u001b[0mimg_array\u001b[0m \u001b[0;34m=\u001b[0m \u001b[0mcv2\u001b[0m\u001b[0;34m.\u001b[0m\u001b[0mimread\u001b[0m\u001b[0;34m(\u001b[0m\u001b[0mos\u001b[0m\u001b[0;34m.\u001b[0m\u001b[0mpath\u001b[0m\u001b[0;34m.\u001b[0m\u001b[0mjoin\u001b[0m\u001b[0;34m(\u001b[0m\u001b[0mpath\u001b[0m\u001b[0;34m,\u001b[0m \u001b[0mimg\u001b[0m\u001b[0;34m)\u001b[0m\u001b[0;34m,\u001b[0m \u001b[0mcv2\u001b[0m\u001b[0;34m.\u001b[0m\u001b[0mIMREAD_ANYCOLOR\u001b[0m\u001b[0;34m)\u001b[0m\u001b[0;34m\u001b[0m\u001b[0;34m\u001b[0m\u001b[0m\n\u001b[0m\u001b[1;32m     10\u001b[0m       \u001b[0mimg_array\u001b[0m \u001b[0;34m=\u001b[0m \u001b[0mcv2\u001b[0m\u001b[0;34m.\u001b[0m\u001b[0mcvtColor\u001b[0m\u001b[0;34m(\u001b[0m\u001b[0mimg_array\u001b[0m\u001b[0;34m,\u001b[0m \u001b[0mcv2\u001b[0m\u001b[0;34m.\u001b[0m\u001b[0mCOLOR_BGR2RGB\u001b[0m\u001b[0;34m)\u001b[0m\u001b[0;34m\u001b[0m\u001b[0;34m\u001b[0m\u001b[0m\n\u001b[1;32m     11\u001b[0m       \u001b[0mnew_array\u001b[0m \u001b[0;34m=\u001b[0m \u001b[0mcv2\u001b[0m\u001b[0;34m.\u001b[0m\u001b[0mresize\u001b[0m\u001b[0;34m(\u001b[0m\u001b[0mimg_array\u001b[0m\u001b[0;34m,\u001b[0m \u001b[0;34m(\u001b[0m\u001b[0mIMG_SIZE\u001b[0m\u001b[0;34m,\u001b[0m \u001b[0mIMG_SIZE\u001b[0m\u001b[0;34m)\u001b[0m\u001b[0;34m)\u001b[0m\u001b[0;34m\u001b[0m\u001b[0;34m\u001b[0m\u001b[0m\n",
            "\u001b[0;31mKeyboardInterrupt\u001b[0m: "
          ]
        }
      ]
    },
    {
      "cell_type": "code",
      "metadata": {
        "id": "IbEbly8t5ehr",
        "colab_type": "code",
        "colab": {
          "base_uri": "https://localhost:8080/",
          "height": 68
        },
        "outputId": "173f6fbc-eef4-4139-ee7d-c5e0293b429c"
      },
      "source": [
        "random.shuffle(training_data)\n",
        "\n",
        "X = []\n",
        "y = []\n",
        "\n",
        "for features, label, name in training_data:\n",
        "    X.append(features)\n",
        "    y.append(label)\n",
        "\n",
        "X = np.array(X, dtype=np.float16)\n",
        "print(X.shape)\n",
        "X = X.reshape(-1, IMG_SIZE, IMG_SIZE, 3)\n",
        "print(X.shape)\n",
        "y = np.array(y)\n",
        "print(y[0].size)"
      ],
      "execution_count": 5,
      "outputs": [
        {
          "output_type": "stream",
          "text": [
            "(10000, 224, 224, 3)\n",
            "(10000, 224, 224, 3)\n",
            "10\n"
          ],
          "name": "stdout"
        }
      ]
    },
    {
      "cell_type": "code",
      "metadata": {
        "id": "nZdT7kEBRli-",
        "colab_type": "code",
        "colab": {
          "base_uri": "https://localhost:8080/",
          "height": 136
        },
        "outputId": "6b0bdda1-dd25-43ae-a85e-1280b5f1f54c"
      },
      "source": [
        "print(y)"
      ],
      "execution_count": 6,
      "outputs": [
        {
          "output_type": "stream",
          "text": [
            "[[0 0 0 ... 1 0 0]\n",
            " [1 0 0 ... 0 0 0]\n",
            " [0 1 0 ... 0 0 0]\n",
            " ...\n",
            " [0 0 0 ... 0 1 0]\n",
            " [0 0 0 ... 0 1 0]\n",
            " [0 0 0 ... 0 0 0]]\n"
          ],
          "name": "stdout"
        }
      ]
    },
    {
      "cell_type": "code",
      "metadata": {
        "id": "2uyhWqAY5xXL",
        "colab_type": "code",
        "colab": {}
      },
      "source": [
        "import pickle\n",
        "\n",
        "pickle_out = open(\"X.pickle\",\"wb\")\n",
        "pickle.dump(X, pickle_out)\n",
        "pickle_out.close()\n",
        "\n",
        "pickle_out = open(\"y.pickle\",\"wb\")\n",
        "pickle.dump(y, pickle_out)\n",
        "pickle_out.close()\n"
      ],
      "execution_count": 7,
      "outputs": []
    },
    {
      "cell_type": "code",
      "metadata": {
        "id": "5-M7qO7wLG01",
        "colab_type": "code",
        "colab": {}
      },
      "source": [
        "pip install -q tensorflow>=2 tfds-nightly matplotlib"
      ],
      "execution_count": null,
      "outputs": []
    },
    {
      "cell_type": "code",
      "metadata": {
        "id": "DdG3Oie1LA2A",
        "colab_type": "code",
        "colab": {}
      },
      "source": [
        "from tensorflow_datasets import testing\n",
        "import tensorflow_datasets as tfds\n",
        "from tensorflow_datasets.image_classification import plant_village"
      ],
      "execution_count": null,
      "outputs": []
    },
    {
      "cell_type": "code",
      "metadata": {
        "id": "p1HFyZZpOBZL",
        "colab_type": "code",
        "colab": {
          "base_uri": "https://localhost:8080/",
          "height": 850
        },
        "outputId": "b1c6cefb-2dd7-4b5a-e669-f1dd1beab845"
      },
      "source": [
        "print(X[0])"
      ],
      "execution_count": null,
      "outputs": [
        {
          "output_type": "stream",
          "text": [
            "[[[0.7295 0.682  0.698 ]\n",
            "  [0.6274 0.5806 0.596 ]\n",
            "  [0.6196 0.569  0.5884]\n",
            "  ...\n",
            "  [0.533  0.4746 0.4863]\n",
            "  [0.4392 0.3804 0.392 ]\n",
            "  [0.4666 0.4119 0.4197]]\n",
            "\n",
            " [[0.6743 0.6274 0.643 ]\n",
            "  [0.655  0.608  0.6235]\n",
            "  [0.686  0.639  0.655 ]\n",
            "  ...\n",
            "  [0.545  0.4863 0.498 ]\n",
            "  [0.4626 0.4038 0.4158]\n",
            "  [0.498  0.4392 0.451 ]]\n",
            "\n",
            " [[0.655  0.608  0.6235]\n",
            "  [0.6274 0.5806 0.596 ]\n",
            "  [0.6313 0.5845 0.6   ]\n",
            "  ...\n",
            "  [0.5527 0.4941 0.506 ]\n",
            "  [0.4941 0.4353 0.447 ]\n",
            "  [0.5293 0.4707 0.4824]]\n",
            "\n",
            " ...\n",
            "\n",
            " [[0.7334 0.686  0.6943]\n",
            "  [0.6743 0.6274 0.6353]\n",
            "  [0.714  0.6665 0.6743]\n",
            "  ...\n",
            "  [0.5527 0.498  0.498 ]\n",
            "  [0.5923 0.537  0.537 ]\n",
            "  [0.4746 0.4197 0.4197]]\n",
            "\n",
            " [[0.6743 0.6274 0.6353]\n",
            "  [0.682  0.6353 0.643 ]\n",
            "  [0.7295 0.682  0.6904]\n",
            "  ...\n",
            "  [0.502  0.447  0.447 ]\n",
            "  [0.5215 0.4666 0.4666]\n",
            "  [0.5806 0.5254 0.5254]]\n",
            "\n",
            " [[0.6943 0.647  0.655 ]\n",
            "  [0.702  0.651  0.6587]\n",
            "  [0.6743 0.6274 0.6353]\n",
            "  ...\n",
            "  [0.545  0.4902 0.4902]\n",
            "  [0.5845 0.5293 0.5293]\n",
            "  [0.6274 0.5728 0.5728]]]\n"
          ],
          "name": "stdout"
        }
      ]
    },
    {
      "cell_type": "code",
      "metadata": {
        "id": "bwwG8FPoLsLX",
        "colab_type": "code",
        "colab": {}
      },
      "source": [
        "ds = tfds.load('plant_village', shuffle_files=True, split='train')\n",
        "import numpy as np\n",
        "data = tfds.as_numpy(ds)\n",
        "\n",
        "# X = np.empty((54303, 256, 256, 3), dtype=np.int8)\n",
        "# y = np.empty((54303, ), dtype=np.int8)\n",
        "\n",
        "X = []\n",
        "y = []\n",
        "import time\n",
        "counter = 0\n",
        "for i, ex in enumerate(data):\n",
        "  if ex['label'] > 27 and ex['label'] != 36:\n",
        "    X[i] = ex['image']\n",
        "    y[i] = ex['label']\n",
        "\n",
        "print(X.size)\n",
        "  \n",
        "# import pickle\n",
        "\n",
        "# pickle_out = open(\"X1.pickle\",\"wb\")\n",
        "# pickle.dump(X, pickle_out)\n",
        "# pickle_out.close()\n",
        "\n",
        "# pickle_out = open(\"y1.pickle\",\"wb\")\n",
        "# pickle.dump(y, pickle_out)\n",
        "# pickle_out.close()\n",
        "  "
      ],
      "execution_count": null,
      "outputs": []
    }
  ]
}