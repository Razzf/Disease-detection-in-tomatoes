{
  "nbformat": 4,
  "nbformat_minor": 0,
  "metadata": {
    "colab": {
      "name": "AlexNet.ipynb",
      "provenance": [],
      "mount_file_id": "1PvGG0UkXXpTcDQShOVDWt_g0Apg6OSu-",
      "authorship_tag": "ABX9TyOgtPO1ZKv8TaeNSZmu1yhn",
      "include_colab_link": true
    },
    "kernelspec": {
      "name": "python3",
      "display_name": "Python 3"
    }
  },
  "cells": [
    {
      "cell_type": "markdown",
      "metadata": {
        "id": "view-in-github",
        "colab_type": "text"
      },
      "source": [
        "<a href=\"https://colab.research.google.com/github/Razzf/Disease-detection-in-tomatoes/blob/master/AlexNet.ipynb\" target=\"_parent\"><img src=\"https://colab.research.google.com/assets/colab-badge.svg\" alt=\"Open In Colab\"/></a>"
      ]
    },
    {
      "cell_type": "code",
      "metadata": {
        "id": "V7Jj4hWg5B2_",
        "colab_type": "code",
        "colab": {}
      },
      "source": [
        "from tensorflow.keras.models import Sequential\n",
        "from tensorflow.keras.layers import Dense, Activation, Dropout, Flatten,\\\n",
        " Conv2D, MaxPooling2D, BatchNormalization\n",
        " \n",
        "from tensorflow.keras.optimizers import Adam\n",
        "from tensorflow.keras.optimizers import SGD \n",
        "\n",
        "import numpy as np\n",
        "np.random.seed(1000)"
      ],
      "execution_count": null,
      "outputs": []
    },
    {
      "cell_type": "code",
      "metadata": {
        "id": "94yIk3088wpP",
        "colab_type": "code",
        "colab": {}
      },
      "source": [
        "import pickle\n",
        "pickle_in = open(\"/content/drive/My Drive/X (2).pickle\",\"rb\")\n",
        "X = pickle.load(pickle_in)\n",
        "\n",
        "pickle_in = open(\"/content/drive/My Drive/y (2).pickle\",\"rb\")\n",
        "y = pickle.load(pickle_in)"
      ],
      "execution_count": null,
      "outputs": []
    },
    {
      "cell_type": "code",
      "metadata": {
        "id": "gsgj3SHZ80aT",
        "colab_type": "code",
        "colab": {
          "base_uri": "https://localhost:8080/",
          "height": 904
        },
        "outputId": "4a9d0e7f-9bd8-4f30-fc21-7dfed51154e3"
      },
      "source": [
        "model = Sequential()\n",
        "\n",
        "model.add(Conv2D(filters=96, input_shape=(224,224,3), kernel_size=(11,11), strides=(4,4), padding='valid'))\n",
        "model.add(Activation('relu'))\n",
        "model.add(MaxPooling2D(pool_size=(2,2), strides=(2,2), padding='valid'))\n",
        "model.add(BatchNormalization())\n",
        "\n",
        "model.add(Conv2D(filters=256, kernel_size=(11,11), strides=(1,1), padding='valid'))\n",
        "model.add(Activation('relu'))\n",
        "model.add(MaxPooling2D(pool_size=(2,2), strides=(2,2), padding='valid'))\n",
        "model.add(BatchNormalization())\n",
        "\n",
        "\n",
        "model.add(Conv2D(filters=384, kernel_size=(3,3), strides=(1,1), padding='valid'))\n",
        "model.add(Activation('relu'))\n",
        "model.add(BatchNormalization())\n",
        "\n",
        "model.add(Conv2D(filters=384, kernel_size=(3,3), strides=(1,1), padding='valid'))\n",
        "model.add(Activation('relu'))\n",
        "model.add(BatchNormalization())\n",
        "\n",
        "model.add(Conv2D(filters=256, kernel_size=(3,3), strides=(1,1), padding='valid'))\n",
        "model.add(Activation('relu'))\n",
        "model.add(MaxPooling2D(pool_size=(2,2), strides=(2,2), padding='valid'))\n",
        "model.add(BatchNormalization())\n",
        "\n",
        "\n",
        "model.add(Flatten())\n",
        "model.add(Dense(4096, input_shape=(224*224*3,)))\n",
        "model.add(Activation('relu'))\n",
        "model.add(Dropout(0.4))\n",
        "model.add(BatchNormalization())\n",
        "\n",
        "\n",
        "model.add(Dense(4096))\n",
        "model.add(Activation('relu'))\n",
        "model.add(Dropout(0.4))\n",
        "model.add(BatchNormalization())\n",
        "\n",
        "\n",
        "model.add(Dense(1000))\n",
        "model.add(Activation('relu'))\n",
        "model.add(Dropout(0.4))\n",
        "model.add(BatchNormalization())\n",
        "\n",
        "model.add(Dense(10))\n",
        "model.add(Activation('softmax'))\n",
        "\n",
        "sgd = SGD(lr=0.001, momentum=0.9, nesterov=False)\n",
        "\n",
        "\n",
        "model.compile(loss='categorical_crossentropy', optimizer=sgd, metrics=['accuracy'])\n",
        "\n",
        "model.fit(X, y, batch_size=24, epochs=25, verbose=1, validation_split=0.2, shuffle=True)"
      ],
      "execution_count": null,
      "outputs": [
        {
          "output_type": "stream",
          "text": [
            "Epoch 1/25\n",
            "334/334 [==============================] - 1198s 4s/step - loss: 2.2094 - accuracy: 0.3229 - val_loss: 1.6673 - val_accuracy: 0.4440\n",
            "Epoch 2/25\n",
            "334/334 [==============================] - 1189s 4s/step - loss: 1.6681 - accuracy: 0.4531 - val_loss: 1.3701 - val_accuracy: 0.5320\n",
            "Epoch 3/25\n",
            "334/334 [==============================] - 1199s 4s/step - loss: 1.2461 - accuracy: 0.5798 - val_loss: 2.3010 - val_accuracy: 0.4105\n",
            "Epoch 4/25\n",
            "334/334 [==============================] - 1212s 4s/step - loss: 0.9703 - accuracy: 0.6694 - val_loss: 2.2550 - val_accuracy: 0.4555\n",
            "Epoch 5/25\n",
            "334/334 [==============================] - 1196s 4s/step - loss: 0.8690 - accuracy: 0.7061 - val_loss: 3.1678 - val_accuracy: 0.2835\n",
            "Epoch 6/25\n",
            "334/334 [==============================] - 1200s 4s/step - loss: 0.7088 - accuracy: 0.7563 - val_loss: 1.7525 - val_accuracy: 0.5600\n",
            "Epoch 7/25\n",
            "334/334 [==============================] - 1192s 4s/step - loss: 0.5800 - accuracy: 0.7956 - val_loss: 0.6026 - val_accuracy: 0.7830\n",
            "Epoch 8/25\n",
            "334/334 [==============================] - 1196s 4s/step - loss: 0.5015 - accuracy: 0.8274 - val_loss: 0.5811 - val_accuracy: 0.7890\n",
            "Epoch 9/25\n",
            "334/334 [==============================] - 1203s 4s/step - loss: 0.4689 - accuracy: 0.8426 - val_loss: 0.7859 - val_accuracy: 0.7390\n",
            "Epoch 10/25\n",
            "334/334 [==============================] - 1194s 4s/step - loss: 0.3985 - accuracy: 0.8571 - val_loss: 0.8687 - val_accuracy: 0.7150\n",
            "Epoch 11/25\n",
            "334/334 [==============================] - 1193s 4s/step - loss: 0.3476 - accuracy: 0.8811 - val_loss: 0.3723 - val_accuracy: 0.8745\n",
            "Epoch 12/25\n",
            "334/334 [==============================] - 1179s 4s/step - loss: 0.2996 - accuracy: 0.8980 - val_loss: 0.5785 - val_accuracy: 0.8155\n",
            "Epoch 13/25\n",
            "334/334 [==============================] - 1183s 4s/step - loss: 0.2905 - accuracy: 0.8976 - val_loss: 2.0464 - val_accuracy: 0.5955\n",
            "Epoch 14/25\n",
            "334/334 [==============================] - 1187s 4s/step - loss: 0.2411 - accuracy: 0.9175 - val_loss: 0.4002 - val_accuracy: 0.8765\n",
            "Epoch 15/25\n",
            "334/334 [==============================] - 1192s 4s/step - loss: 0.2189 - accuracy: 0.9256 - val_loss: 0.9349 - val_accuracy: 0.7445\n",
            "Epoch 16/25\n",
            "334/334 [==============================] - 1189s 4s/step - loss: 0.2078 - accuracy: 0.9273 - val_loss: 0.6236 - val_accuracy: 0.8190\n",
            "Epoch 17/25\n",
            "334/334 [==============================] - 1183s 4s/step - loss: 0.1920 - accuracy: 0.9344 - val_loss: 0.8865 - val_accuracy: 0.7500\n",
            "Epoch 18/25\n",
            "334/334 [==============================] - 1204s 4s/step - loss: 0.1675 - accuracy: 0.9433 - val_loss: 0.7637 - val_accuracy: 0.7815\n",
            "Epoch 19/25\n",
            "334/334 [==============================] - 1203s 4s/step - loss: 0.1429 - accuracy: 0.9526 - val_loss: 0.3593 - val_accuracy: 0.8925\n",
            "Epoch 20/25\n",
            "334/334 [==============================] - 1199s 4s/step - loss: 0.1364 - accuracy: 0.9538 - val_loss: 1.2180 - val_accuracy: 0.7065\n",
            "Epoch 21/25\n",
            "334/334 [==============================] - 1197s 4s/step - loss: 0.1266 - accuracy: 0.9571 - val_loss: 0.4206 - val_accuracy: 0.8690\n",
            "Epoch 22/25\n",
            "334/334 [==============================] - 1196s 4s/step - loss: 0.1193 - accuracy: 0.9595 - val_loss: 0.7533 - val_accuracy: 0.7950\n",
            "Epoch 23/25\n",
            "334/334 [==============================] - 1207s 4s/step - loss: 0.0995 - accuracy: 0.9654 - val_loss: 0.3265 - val_accuracy: 0.8995\n",
            "Epoch 24/25\n",
            "334/334 [==============================] - 1217s 4s/step - loss: 0.0933 - accuracy: 0.9679 - val_loss: 1.2189 - val_accuracy: 0.7240\n",
            "Epoch 25/25\n",
            "334/334 [==============================] - 1220s 4s/step - loss: 0.0849 - accuracy: 0.9710 - val_loss: 0.3274 - val_accuracy: 0.8995\n"
          ],
          "name": "stdout"
        },
        {
          "output_type": "execute_result",
          "data": {
            "text/plain": [
              "<tensorflow.python.keras.callbacks.History at 0x7fc062bd1400>"
            ]
          },
          "metadata": {
            "tags": []
          },
          "execution_count": 3
        }
      ]
    },
    {
      "cell_type": "code",
      "metadata": {
        "id": "ZsWGsBkMTKEP",
        "colab_type": "code",
        "colab": {}
      },
      "source": [
        "model.save('/content/drive/My Drive/model.h5')"
      ],
      "execution_count": null,
      "outputs": []
    }
  ]
}