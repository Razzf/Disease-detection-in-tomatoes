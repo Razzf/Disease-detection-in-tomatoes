{
  "nbformat": 4,
  "nbformat_minor": 0,
  "metadata": {
    "colab": {
      "name": "CostoBeneficio.ipynb",
      "provenance": [],
      "collapsed_sections": [],
      "authorship_tag": "ABX9TyMih8K4v6/GV7wVmvPRb55T",
      "include_colab_link": true
    },
    "kernelspec": {
      "name": "python3",
      "display_name": "Python 3"
    }
  },
  "cells": [
    {
      "cell_type": "markdown",
      "metadata": {
        "id": "view-in-github",
        "colab_type": "text"
      },
      "source": [
        "<a href=\"https://colab.research.google.com/github/Razzf/Disease-detection-in-tomatoes/blob/master/CostoBeneficio.ipynb\" target=\"_parent\"><img src=\"https://colab.research.google.com/assets/colab-badge.svg\" alt=\"Open In Colab\"/></a>"
      ]
    },
    {
      "cell_type": "code",
      "metadata": {
        "id": "tiV09YPscfRM",
        "colab_type": "code",
        "colab": {
          "base_uri": "https://localhost:8080/",
          "height": 187
        },
        "outputId": "88e0f54a-ccfe-4c2f-cdcd-0fab922530aa"
      },
      "source": [
        "hpc = 50938 #Numero de hectareas sembradas por tipo de cultivo\n",
        "hal = 21823 #hectareas after loss, hectareas cosechadas\n",
        "tonr = 715748 #toneladas resultates del parametro hal\n",
        "gpc = 5880 #ganancia por tonelada del tipo de cultivo\n",
        "B = .29  # porcentaje de perdida por enefermedades respecto a cultivo\n",
        "\n",
        "def agriperc(hc, at=380602, ht=3504808):\n",
        "  return (hc * at) / ht\n",
        "\n",
        "def costbefit(ha, g, N):\n",
        "    return (g *B*ha)/N - (20500/N)\n",
        "  \n",
        "def tonperallh(ha1, ha2, ton2):\n",
        "  return (ton2 * ha1 ) / ha2\n",
        "\n",
        "def gperha(tonperha, gperton, hc):\n",
        "  return (gperton * tonperha) / hc\n",
        "  \n",
        "\n",
        "\n",
        "tpha = tonperallh(hpc, hal, tonr)\n",
        "gpha = gperha(tpha, gpc, hpc)\n",
        "\n",
        "a = agriperc(hpc)\n",
        "cb = costbefit(hpc, gpha, a)\n",
        "print('Agricultores: ', round(a), \"\\n\")\n",
        "print('GananciaHa  : ', gpha, \"\\n\")\n",
        "print('Perdida     : ', gpha*B, \"\\n\")\n",
        "print('Perdida     : ', gpha*B, \"\\n\")\n",
        "print('CB          : ', cb, \"\\n\")"
      ],
      "execution_count": 9,
      "outputs": [
        {
          "output_type": "stream",
          "text": [
            "Agricultores:  5532 \n",
            "\n",
            "GananciaHa  :  192851.49796086698 \n",
            "\n",
            "Perdida     :  55926.93440865142 \n",
            "\n",
            "Perdida     :  55926.93440865142 \n",
            "\n",
            "CB          :  515004.5365521106 \n",
            "\n"
          ],
          "name": "stdout"
        }
      ]
    }
  ]
}