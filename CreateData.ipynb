{
  "nbformat": 4,
  "nbformat_minor": 0,
  "metadata": {
    "colab": {
      "name": "CreateData.ipynb",
      "provenance": [],
      "collapsed_sections": [],
      "authorship_tag": "ABX9TyNJ+DrETcIuAUch2wgBlcv/",
      "include_colab_link": true
    },
    "kernelspec": {
      "name": "python3",
      "display_name": "Python 3"
    }
  },
  "cells": [
    {
      "cell_type": "markdown",
      "metadata": {
        "id": "view-in-github",
        "colab_type": "text"
      },
      "source": [
        "<a href=\"https://colab.research.google.com/github/Razzf/Disease-detection-in-tomatoes/blob/master/CreateData.ipynb\" target=\"_parent\"><img src=\"https://colab.research.google.com/assets/colab-badge.svg\" alt=\"Open In Colab\"/></a>"
      ]
    },
    {
      "cell_type": "code",
      "metadata": {
        "id": "bK0MDY7k4-uR",
        "colab_type": "code",
        "colab": {}
      },
      "source": [
        "import numpy as np\n",
        "import os\n",
        "import cv2\n",
        "import random\n",
        "from IPython.display import clear_output"
      ],
      "execution_count": null,
      "outputs": []
    },
    {
      "cell_type": "code",
      "metadata": {
        "id": "GGp3JpJF5JbG",
        "colab_type": "code",
        "colab": {}
      },
      "source": [
        "DATADIR = \"/content/drive/My Drive/color\"\n",
        "CATEGORIES = [\"Tomato___Bacterial_spot\", \n",
        "              \"Tomato___Early_blight\",\n",
        "              \"Tomato___Late_blight\", \"Tomato___Leaf_Mold\",\n",
        "              \"Tomato___Septoria_leaf_spot\",\n",
        "              \"Tomato___Spider_mites Two-spotted_spider_mite\",\n",
        "              \"Tomato___Target_Spot\",\n",
        "              \"Tomato___Tomato_Yellow_Leaf_Curl_Virus\",\n",
        "              \"Tomato___healthy\"]"
      ],
      "execution_count": null,
      "outputs": []
    },
    {
      "cell_type": "code",
      "metadata": {
        "id": "f9GHJxti5RTi",
        "colab_type": "code",
        "colab": {}
      },
      "source": [
        "training_data = []\n",
        "IMG_SIZE = 224\n",
        "def create_training_data():\n",
        "  for class_index, category in enumerate(CATEGORIES):\n",
        "    path = os.path.join(DATADIR, category)\n",
        "    class_array = [0, 0, 0, 0, 0, 0, 0, 0, 0]\n",
        "    class_array[class_index] = 1\n",
        "    for img_index, img in enumerate(os.listdir(path)):\n",
        "      class_array[class_index] = 1\n",
        "      img_array = cv2.imread(os.path.join(path, img), cv2.IMREAD_ANYCOLOR)\n",
        "      img_array = cv2.cvtColor(img_array, cv2.COLOR_BGR2RGB)\n",
        "      new_array = cv2.resize(img_array, (IMG_SIZE, IMG_SIZE))\n",
        "      #new_array = np.array(new_array)\n",
        "      #new_array = new_array/255.0\n",
        "      training_data.append((new_array, class_array, category))\n",
        "      print('class: ', category)\n",
        "      print(\"img_n: \", img_index)\n",
        "      print(\"label: \", class_array)\n",
        "      if (img_index + 1) >= 952:\n",
        "        break\n",
        "      if (img_index + 1) % 2 == 0:\n",
        "        clear_output()"
      ],
      "execution_count": null,
      "outputs": []
    },
    {
      "cell_type": "code",
      "metadata": {
        "id": "IbEbly8t5ehr",
        "colab_type": "code",
        "colab": {}
      },
      "source": [
        "random.shuffle(training_data)\n",
        "\n",
        "X = []\n",
        "y = []\n",
        "\n",
        "for features, label, name in training_data:\n",
        "    X.append(features)\n",
        "    y.append(label)\n",
        "\n",
        "X = np.array(X)\n",
        "print(X.shape)\n",
        "X = X.reshape(-1, IMG_SIZE, IMG_SIZE, 3)\n",
        "print(X.shape)\n",
        "y = np.array(y)\n",
        "print(y[0].size)"
      ],
      "execution_count": null,
      "outputs": []
    },
    {
      "cell_type": "code",
      "metadata": {
        "id": "2uyhWqAY5xXL",
        "colab_type": "code",
        "colab": {}
      },
      "source": [
        "import pickle\n",
        "\n",
        "pickle_out = open(\"X.pickle\",\"wb\")\n",
        "pickle.dump(X, pickle_out)\n",
        "pickle_out.close()\n",
        "\n",
        "pickle_out = open(\"y.pickle\",\"wb\")\n",
        "pickle.dump(y, pickle_out)\n",
        "pickle_out.close()\n"
      ],
      "execution_count": null,
      "outputs": []
    }
  ]
}